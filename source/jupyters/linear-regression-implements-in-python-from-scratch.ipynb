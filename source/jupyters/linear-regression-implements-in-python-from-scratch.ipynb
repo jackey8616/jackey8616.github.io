{
 "cells": [
  {
   "cell_type": "code",
   "execution_count": null,
   "id": "7974f66c",
   "metadata": {},
   "outputs": [],
   "source": [
    "dataset = [\n",
    "[1.2, 39344.0],\n",
    "[1.4, 46206.0],\n",
    "[1.6, 37732.0],\n",
    "[2.1, 43526.0],\n",
    "[2.3, 39892.0],\n",
    "[3.0, 56643.0],\n",
    "[3.1, 60151.0],\n",
    "[3.3, 54446.0],\n",
    "[3.3, 64446.0],\n",
    "[3.8, 57190.0],\n",
    "[4.0, 63219.0],\n",
    "[4.1, 55795.0],\n",
    "[4.1, 56958.0],\n",
    "[4.2, 57082.0],\n",
    "[4.6, 61112.0],\n",
    "[5.0, 67939.0],\n",
    "[5.2, 66030.0],\n",
    "[5.4, 83089.0],\n",
    "[6.0, 81364.0],\n",
    "[6.1, 93941.0],\n",
    "[6.9, 91739.0],\n",
    "[7.2, 98274.0],\n",
    "[8.0, 101303.0],\n",
    "[8.3, 113813.0],\n",
    "[8.8, 109432.0],\n",
    "[9.1, 105583.0],\n",
    "[9.6, 116970.0],\n",
    "[9.7, 112636.0],\n",
    "[10.4, 122392.0],\n",
    "[10.6, 121873.0]\n",
    "]"
   ]
  },
  {
   "cell_type": "code",
   "execution_count": null,
   "id": "9308c05f",
   "metadata": {},
   "outputs": [],
   "source": [
    "from matplotlib import pyplot as plt\n",
    "xCoords = [data[0] for data in dataset]\n",
    "yCoords = [data[1] for data in dataset]\n",
    "\n",
    "fig, ax = plt.subplots()\n",
    "ax.scatter(x=xCoords, y=yCoords, marker='o')\n",
    "ax.set(title=\"Relationship between work year and salary\")\n",
    "plt.show()"
   ]
  },
  {
   "cell_type": "code",
   "execution_count": null,
   "id": "d0a57b49",
   "metadata": {},
   "outputs": [],
   "source": [
    "dataset = [\n",
    "  [1, data[0], data[1]]\n",
    "  for data in dataset\n",
    "]\n",
    "print(dataset)"
   ]
  },
  {
   "cell_type": "code",
   "execution_count": null,
   "id": "d1eee3ec",
   "metadata": {},
   "outputs": [],
   "source": [
    "splitIndex = int(len(dataset) * 0.8)\n",
    "trainset = dataset[:splitIndex]\n",
    "testset = dataset[splitIndex:]\n",
    "print(trainset)\n",
    "print(testset)"
   ]
  },
  {
   "cell_type": "code",
   "execution_count": null,
   "id": "4d899c69",
   "metadata": {},
   "outputs": [],
   "source": [
    "def predict(weights: list[float], data: list[float]) -> float:\n",
    "  prediction = 0\n",
    "  for idx, weight in enumerate(weights):\n",
    "    feature = data[idx]\n",
    "    prediction += feature * weight\n",
    "  return prediction\n",
    "\n",
    "def predicts(weights: list[float], datas: list[list]) -> list[float]:\n",
    "  predictions = []\n",
    "  for data in datas:\n",
    "    prediction = predict(weights, data)\n",
    "    predictions.append(prediction)\n",
    "  return predictions"
   ]
  },
  {
   "cell_type": "code",
   "execution_count": null,
   "id": "9e4fb03c",
   "metadata": {},
   "outputs": [],
   "source": [
    "def gradient_calculate(weights: list[float], predictions: list[float], datas: list[list]) -> list[float]:\n",
    "  n = len(datas)\n",
    "  gradients = [0.0, 0.0]\n",
    "  for idx, prediction in enumerate(predictions):\n",
    "    actual_value = datas[idx][2]\n",
    "    error = (prediction - actual_value)\n",
    "    gradients[0] += error\n",
    "    gradients[1] += error * datas[idx][1]\n",
    "  gradients[0] = (gradients[0] * 2) / n\n",
    "  gradients[1] = (gradients[1] * 2) / n\n",
    "  return gradients"
   ]
  },
  {
   "cell_type": "code",
   "execution_count": null,
   "id": "85f5f81f",
   "metadata": {},
   "outputs": [],
   "source": [
    "def update_weights(weights: list[float], gradients: list[float], alpha: float) -> list[float]:\n",
    "  new_weights = [0.0, 0.0]\n",
    "  for idx, weight in enumerate(weights):\n",
    "    new_weights[idx] = weight - alpha * gradients[idx]\n",
    "  return new_weights"
   ]
  },
  {
   "cell_type": "code",
   "execution_count": null,
   "id": "5800a33a",
   "metadata": {},
   "outputs": [],
   "source": [
    "def train(training_dataset: list[list], alpha: float, epochs: int) -> list[float]:\n",
    "  training_weights = [0.0, 0.0]\n",
    "  for epoch in range(epochs):\n",
    "    predictions = predicts(training_weights, training_dataset)\n",
    "    gradients = gradient_calculate(training_weights, predictions, training_dataset)\n",
    "    training_weights = update_weights(training_weights, gradients, alpha)\n",
    "    print(f\"epoch: {epoch}, weights: {training_weights}\")\n",
    "  return training_weights"
   ]
  },
  {
   "cell_type": "code",
   "execution_count": null,
   "id": "5423f0c6",
   "metadata": {},
   "outputs": [],
   "source": [
    "alpha = 0.01\n",
    "epochs = 4000\n",
    "trained_weights = train(trainset, alpha, epochs)"
   ]
  },
  {
   "cell_type": "code",
   "execution_count": null,
   "id": "b43e597c",
   "metadata": {},
   "outputs": [],
   "source": [
    "for idx, test_data in enumerate(testset):\n",
    "  print(f\"Test {idx}, data: {test_data}, predict: {predict(trained_weights, test_data)}, actual: {test_data[2]}\")"
   ]
  }
 ],
 "metadata": {
  "kernelspec": {
   "display_name": "Python 3",
   "language": "python",
   "name": "python3"
  },
  "language_info": {
   "codemirror_mode": {
    "name": "ipython",
    "version": 3
   },
   "file_extension": ".py",
   "mimetype": "text/x-python",
   "name": "python",
   "nbconvert_exporter": "python",
   "pygments_lexer": "ipython3",
   "version": "3.10.16"
  }
 },
 "nbformat": 4,
 "nbformat_minor": 5
}
